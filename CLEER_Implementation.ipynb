{
 "cells": [
  {
   "cell_type": "code",
   "execution_count": 1,
   "metadata": {},
   "outputs": [],
   "source": [
    "import numpy as np\n",
    "from utils import *\n",
    "\n",
    "import tensorflow.keras.utils\n",
    "from tensorflow.keras import backend as K\n",
    "from tensorflow.keras.datasets import mnist\n",
    "from tensorflow.keras.models import save_model,load_model,Model\n",
    "from tensorflow.keras.optimizers import Adam, RMSprop\n",
    "from tensorflow.keras.layers import Conv2D, UpSampling2D, AveragePooling2D, MaxPooling2D, Dense,Input, Dropout\n",
    "from tensorflow.keras.layers import LeakyReLU,Reshape,BatchNormalization, Flatten\n",
    "from tensorflow.keras.models import save_model\n",
    "from tempfile import TemporaryFile\n",
    "import tensorflow as tf\n",
    "import pickle\n",
    "import scipy.io as sio\n",
    "import matplotlib.pyplot as plt\n",
    "from IPython import display\n",
    "import time\n",
    "from sklearn.mixture import GaussianMixture\n",
    "import umap\n",
    "from copy import deepcopy"
   ]
  },
  {
   "cell_type": "code",
   "execution_count": 2,
   "metadata": {},
   "outputs": [
    {
     "name": "stdout",
     "output_type": "stream",
     "text": [
      "WARNING:tensorflow:From /nas/home/mrostami/.local/lib/python3.7/site-packages/tensorflow/python/compat/v2_compat.py:96: disable_resource_variables (from tensorflow.python.ops.variable_scope) is deprecated and will be removed in a future version.\n",
      "Instructions for updating:\n",
      "non-resource variables are not supported in the long term\n"
     ]
    }
   ],
   "source": [
    "import tensorflow.compat.v1 as tf\n",
    "tf.disable_v2_behavior()\n"
   ]
  },
  {
   "cell_type": "code",
   "execution_count": 3,
   "metadata": {},
   "outputs": [],
   "source": [
    "#! pip install umap-learn\n"
   ]
  },
  {
   "cell_type": "code",
   "execution_count": 4,
   "metadata": {},
   "outputs": [],
   "source": [
    "zdim=16 # This is the dimension of intermediate latent variable \n",
    "epochs = 10000\n",
    "epochstep = epochs/100\n",
    "nofclasses=10\n",
    "batchsize=1000 \n",
    "nofprojections = 40"
   ]
  },
  {
   "cell_type": "markdown",
   "metadata": {},
   "source": [
    "## Data Generation"
   ]
  },
  {
   "cell_type": "code",
   "execution_count": 5,
   "metadata": {},
   "outputs": [],
   "source": [
    "#Read MNIST\n",
    "\n",
    "(x_train,y_train),(x_test,y_test)=mnist.load_data()\n",
    "dataX_train=np.expand_dims(x_train.astype('float32')/255.,3)\n",
    "dataX_test=np.expand_dims(x_test.astype('float32')/255.,3)\n",
    "\n",
    "labelX_train = tf.keras.utils.to_categorical(y_train, nofclasses)\n",
    "labelX_test = tf.keras.utils.to_categorical(y_test, nofclasses)"
   ]
  },
  {
   "cell_type": "code",
   "execution_count": 6,
   "metadata": {},
   "outputs": [],
   "source": [
    "numdataTrain = labelX_train.shape[0]\n",
    "numdataTest = labelX_test.shape[0]\n",
    "\n",
    "dataX_train1 = np.reshape(dataX_train,[numdataTrain,28*28]) \n",
    "dataX_test1 = np.reshape(dataX_test,[numdataTest,28*28]) "
   ]
  },
  {
   "cell_type": "code",
   "execution_count": 7,
   "metadata": {},
   "outputs": [],
   "source": [
    "numtasks =4\n",
    "\n",
    "\n",
    "dataY_train1 = {}\n",
    "dataY_test1 = {}\n",
    "labelY_train = {}\n",
    "labelY_test = {}\n",
    "indxtot = {}\n",
    "for numtask in range(numtasks):\n",
    "    \n",
    "\n",
    "\n",
    "    idx = list(range(28 * 28))\n",
    "    np.random.shuffle(idx)\n",
    "     \n",
    "    indxtot[numtask] = idx\n",
    "\n",
    "    dataY_train1[numtask]= np.zeros([numdataTrain,28*28])\n",
    "    temp3 = np.zeros([numdataTrain,28*28])\n",
    "\n",
    "    dataY_test1[numtask]= np.zeros([numdataTest,28*28])\n",
    "    temp4 = np.zeros([numdataTrain,28*28])\n",
    "\n",
    "    labelY_train[numtask] =labelX_train   \n",
    "\n",
    "    labelY_test[numtask] =  labelX_test  \n",
    "\n",
    "    for i in range(numdataTrain):    \n",
    "        temp = dataX_train1[i,:]    \n",
    "        temp2 = temp[idx]        \n",
    "        dataY_train1[numtask][i,:] = temp2\n",
    "    \n",
    "    for i in range(numdataTest):    \n",
    "        temp = dataX_test1[i,:]  \n",
    "        temp2 = temp[idx]        \n",
    "        dataY_test1[numtask][i,:] = temp2\n",
    "    \n",
    "    \n",
    "    "
   ]
  },
  {
   "cell_type": "markdown",
   "metadata": {},
   "source": [
    "##  X is input and Z the embedding space"
   ]
  },
  {
   "cell_type": "code",
   "execution_count": 8,
   "metadata": {},
   "outputs": [],
   "source": [
    "\n",
    " \n",
    "imgX=Input(((28*28),)) #Input image \n",
    "labelX=K.placeholder(shape=(None,nofclasses),dtype='float32') #labels of input images oneHot\n",
    "\n"
   ]
  },
  {
   "cell_type": "markdown",
   "metadata": {},
   "source": [
    "## Encoder, Decoder and Classifier NN"
   ]
  },
  {
   "cell_type": "code",
   "execution_count": 9,
   "metadata": {},
   "outputs": [],
   "source": [
    "hidden_size = 512\n",
    "x=Dense(hidden_size,activation = 'relu')(imgX)\n",
    " \n",
    "x=Dense(hidden_size/2,activation = 'relu')(x)\n",
    "#x=Dense(hidden_size/32,activation = 'sigmoid')(x)\n",
    "\n",
    "\n",
    "\n",
    "\n",
    "encodedX=Dense(zdim)(x)\n",
    "\n",
    "encoderX=Model(inputs=[imgX],outputs=[encodedX])\n",
    "\n",
    "  \n"
   ]
  },
  {
   "cell_type": "code",
   "execution_count": 10,
   "metadata": {},
   "outputs": [],
   "source": [
    "z=Input((zdim,))\n",
    "\n",
    "x=Dense(hidden_size/2,activation = 'relu')(z)\n",
    "x=Dense(hidden_size,activation = 'relu')(x)\n",
    "\n",
    "\n",
    "decodedX=Dense(28*28,activation = 'relu')(x)\n",
    "\n",
    "\n",
    "decoderX=Model(inputs=[z],outputs=[decodedX])\n",
    "\n",
    "  \n"
   ]
  },
  {
   "cell_type": "code",
   "execution_count": 11,
   "metadata": {},
   "outputs": [],
   "source": [
    "probX=Dense(nofclasses,activation='softmax')(z)\n",
    "classifier=Model(inputs=[z],outputs=[probX])\n"
   ]
  },
  {
   "cell_type": "markdown",
   "metadata": {},
   "source": [
    "# Training on Task 1"
   ]
  },
  {
   "cell_type": "code",
   "execution_count": 12,
   "metadata": {},
   "outputs": [],
   "source": [
    "lamda=10  \n",
    "\n",
    "discriminationLoss=K.mean(K.categorical_crossentropy(labelX,classifier(encoderX(imgX))))\n",
    "autorec = K.mean(K.square(imgX-decoderX(encoderX(imgX))))\n",
    "myLoss= discriminationLoss+lamda*autorec"
   ]
  },
  {
   "cell_type": "code",
   "execution_count": 13,
   "metadata": {},
   "outputs": [],
   "source": [
    "params=encoderX.weights + decoderX.weights + classifier.weights\n",
    " \n",
    "    \n",
    "opt = Adam(lr=1e-4)  \n",
    "updates = opt.get_updates(myLoss,params)\n",
    "train = K.function(inputs=[imgX,labelX],outputs=[myLoss,lamda*autorec,discriminationLoss],updates=updates)"
   ]
  },
  {
   "cell_type": "code",
   "execution_count": 14,
   "metadata": {},
   "outputs": [],
   "source": [
    "loss=[]\n",
    "testXperf = []"
   ]
  },
  {
   "cell_type": "code",
   "execution_count": 15,
   "metadata": {},
   "outputs": [
    {
     "name": "stdout",
     "output_type": "stream",
     "text": [
      "WARNING:tensorflow:From /nas/home/mrostami/.local/lib/python3.7/site-packages/tensorflow/python/keras/engine/training_v1.py:2070: Model.state_updates (from tensorflow.python.keras.engine.training) is deprecated and will be removed in a future version.\n",
      "Instructions for updating:\n",
      "This property should not be used in TensorFlow 2.0, as updates are applied automatically.\n"
     ]
    }
   ],
   "source": [
    "for itr in range(epochs):\n",
    "    indTrainDataX,trainLabelX=batchGenerator(labelX_train,batchsize,nofclasses=10)\n",
    "    trainDataX=dataX_train1[indTrainDataX,...]\n",
    "    loss.append(train(inputs=[trainDataX,trainLabelX]))\n",
    "    \n",
    "    if itr%epochstep==0:\n",
    "\n",
    "        perd_label_X = classifier.predict(encoderX.predict(dataX_test1))\n",
    "        testXperf.append(100*float(sum(1*(np.argmax(perd_label_X,axis=1)==np.argmax(np.squeeze(labelX_test),axis=1))))/perd_label_X.shape[0])\n",
    "\n"
   ]
  },
  {
   "cell_type": "markdown",
   "metadata": {},
   "source": [
    "# Learning Next Tasks"
   ]
  },
  {
   "cell_type": "code",
   "execution_count": 17,
   "metadata": {},
   "outputs": [
    {
     "name": "stderr",
     "output_type": "stream",
     "text": [
      "/nas/home/mrostami/.local/lib/python3.7/site-packages/tensorflow/python/framework/indexed_slices.py:432: UserWarning: Converting sparse IndexedSlices to a dense Tensor of unknown shape. This may consume a large amount of memory.\n",
      "  \"Converting sparse IndexedSlices to a dense Tensor of unknown shape. \"\n"
     ]
    }
   ],
   "source": [
    "testpermutedperf = {}\n",
    "thres = .7\n",
    "\n",
    "for ntask in range(numtasks):\n",
    "    testpermutedperf[ntask+1] = []\n",
    "\n",
    "GMM = {}\n",
    " \n",
    "\n",
    "\n",
    "imgY=Input(((28*28),), dtype='float32') #Input image \n",
    "labelY=K.placeholder(shape=(None,nofclasses),dtype='float32') #labels of input images oneHot\n",
    "\n",
    "imgZ=Input(((28*28),), dtype='float32') \n",
    "labelZ=K.placeholder(shape=(None,nofclasses),dtype='float32')  \n",
    "\n",
    "\n",
    "lamda2=1e-4\n",
    "theta=theta=tf.keras.backend.placeholder(shape = (nofprojections, zdim), dtype='float32')\n",
    "\n",
    "\n",
    "discriminationLoss=K.mean(K.categorical_crossentropy(labelZ,classifier(encoderX(imgZ))))\n",
    "autorec = K.mean(K.square(imgZ-decoderX(encoderX(imgZ))))\n",
    "\n",
    "swLoss =sWasserstein(encoderX(imgY),encoderX(imgZ),theta,nofclasses,Cp=labelX,Cq=labelZ)\n",
    "\n",
    "\n",
    "\n",
    "myLossT= discriminationLoss+lamda*autorec+lamda2*swLoss\n",
    "\n",
    "\n",
    "params=encoderX.weights + decoderX.weights + classifier.weights\n",
    "\n",
    "optT = Adam(lr=5e-5) # very important\n",
    "updatesT = optT.get_updates(myLossT,params)\n",
    "trainT = K.function(inputs=[imgX,imgY,imgZ,labelX,labelY,labelZ,theta],outputs=[lamda*autorec,discriminationLoss,swLoss],updates=updatesT)\n",
    "\n",
    "\n",
    "\n",
    "\n",
    "\n"
   ]
  },
  {
   "cell_type": "code",
   "execution_count": 18,
   "metadata": {
    "scrolled": true
   },
   "outputs": [],
   "source": [
    "for ntask in range(numtasks):\n",
    "    \n",
    "    \n",
    "    \n",
    "    #Fit GMM to training data    \n",
    "    if ntask ==0:\n",
    "        labelX_train_EXP = labelX_train\n",
    "        dataX_train1_EXP = dataX_train1\n",
    "    else: \n",
    "        labelX_train_EXP = np.concatenate((labelY_train[ntask-1],xreptrainlabelonehot ),axis=0)\n",
    "        dataX_train1_EXP = np.concatenate((dataY_train1[ntask-1], xreptrainData),axis=0)\n",
    "    tempvar = labelX_train_EXP\n",
    "    \n",
    "    num_det_clusters = 0\n",
    "\n",
    "    labeltrain_EXP = np.argmax(np.squeeze(labelX_train_EXP),axis=1)\n",
    "\n",
    "    # fitting GNN\n",
    "\n",
    "    while(num_det_clusters!=nofclasses):\n",
    "        encodedXtrain_EXP = encoderX.predict(dataX_train1_EXP)\n",
    "        labelX_train_EXP = tempvar\n",
    "        \n",
    "        gmm =GaussianMixture(n_components=10,warm_start=True,covariance_type='diag',)\n",
    "        gmm.fit(encodedXtrain_EXP,labelX_train_EXP   )\n",
    "        \n",
    "        btemp = gmm.predict_proba(encodedXtrain_EXP)\n",
    "\n",
    "        indgmm2 = []\n",
    "        for ii in range(btemp.shape[0]):\n",
    "            if np.max(btemp[ii,:]) > thres:\n",
    "                indgmm2.append(ii)\n",
    "\n",
    "        encodedXtrain_EXP = encodedXtrain_EXP[indgmm2,:]\n",
    "        labelX_train_EXP = labelX_train_EXP[indgmm2,:]\n",
    "\n",
    "        gmm =GaussianMixture(n_components=10,warm_start=True,covariance_type='diag',)\n",
    "        gmm.fit(encodedXtrain_EXP,labelX_train_EXP   )  \n",
    "        \n",
    "        \n",
    "        \n",
    "        labeltrain_EXP = np.argmax(np.squeeze(labelX_train_EXP),axis=1)\n",
    "        \n",
    "        \n",
    "        \n",
    "        \n",
    "        \n",
    "        GMM[ntask] = gmm\n",
    "\n",
    "        labeltraingmmpredict_EXP = gmm.predict(encodedXtrain_EXP)\n",
    "        labtransform = []\n",
    "        for j in range(nofclasses):\n",
    "            labtransform = labtransform + [round(labeltrain_EXP[labeltraingmmpredict_EXP==j].mean())]\n",
    "\n",
    "        num_det_clusters = np.unique(labtransform, axis=0).shape[0]\n",
    "\n",
    "\n",
    "    for j in range(labeltraingmmpredict_EXP.shape[0]):\n",
    "        labeltraingmmpredict_EXP[j] = labtransform[labeltraingmmpredict_EXP[j]]\n",
    "\n",
    "\n",
    "     \n",
    "    \n",
    "    # GMM is used as a generative model so task 1 data is not saved\n",
    "    xnofsample = 150000\n",
    "    xreptrainDataencoded, xreptrainlabel = gmm.sample(xnofsample)\n",
    "    \n",
    "    \n",
    "    atemp = gmm.predict_proba(xreptrainDataencoded)\n",
    "\n",
    "\n",
    "    indgmm = []\n",
    "    for i in range(atemp.shape[0]):\n",
    "        if np.max(atemp[i,:]) > thres:\n",
    "            indgmm.append(i)\n",
    "    \n",
    "    xreptrainDataencoded = xreptrainDataencoded[indgmm,:]\n",
    "    xreptrainlabel = xreptrainlabel[indgmm]\n",
    "    \n",
    "    \n",
    "    \n",
    "    \n",
    "    \n",
    "    \n",
    "    \n",
    "    \n",
    "    \n",
    "    \n",
    "    \n",
    "    xreptrainData = decoderX.predict(xreptrainDataencoded)\n",
    "\n",
    "    xreptrainData = xreptrainData.clip(min=0)\n",
    "    xreptrainData = xreptrainData.clip(max=1)\n",
    "\n",
    "\n",
    "    for j in range(xreptrainlabel.shape[0]):\n",
    "        xreptrainlabel[j] = labtransform[xreptrainlabel[j]]\n",
    "\n",
    "    xreptrainlabelonehot = tf.keras.utils.to_categorical(xreptrainlabel)\n",
    "\n",
    "    xnofsampletest = 10000\n",
    "    xreptestDataencoded, xreptestlabel = gmm.sample(xnofsampletest)\n",
    "    xreptestData = decoderX.predict(xreptestDataencoded)\n",
    "\n",
    "    xreptestData = xreptestData.clip(min=0)\n",
    "    xreptestData = xreptestData.clip(max=1)\n",
    "\n",
    "\n",
    "    for j in range(xnofsampletest):\n",
    "        xreptestlabel[j] = labtransform[xreptestlabel[j]]\n",
    "    \n",
    "    xreptestlabelonehot = tf.keras.utils.to_categorical(xreptestlabel)\n",
    "\n",
    " \n",
    "    \n",
    "    \n",
    "    \n",
    "    \n",
    "    batchsize=400\n",
    "    batchsize = batchsize/2\n",
    "    \n",
    "    \n",
    "    seed=np.random.randint(0,high=100)\n",
    "    \n",
    "  \n",
    "      \n",
    "    \n",
    "    for itr in range(epochs):\n",
    "        indTrainDataY,trainLabelY=batchGenerator(labelY_train[ntask],batchsize,nofclasses=10)\n",
    "        trainDataY=dataY_train1[ntask][indTrainDataY,...]\n",
    "\n",
    "        indTrainDatasample,trainLabelsample=batchGenerator(xreptrainlabelonehot,batchsize,nofclasses=10)\n",
    "        trainDatasample=xreptrainData[indTrainDatasample,...]\n",
    "\n",
    "\n",
    "        trainDataYtot = np.concatenate((trainDataY,trainDatasample), axis=0)\n",
    "        trainLabelYtot = np.concatenate((trainLabelY,trainLabelsample), axis=0)\n",
    "\n",
    "\n",
    "        theta_=generateTheta(nofprojections,zdim)\n",
    "        \n",
    "\n",
    "        loss.append(trainT(inputs=[trainDataY,trainDatasample,trainDataYtot,trainLabelY,trainLabelsample,trainLabelYtot,theta_]))\n",
    "           \n",
    "            \n",
    "        if itr%epochstep==0:\n",
    "\n",
    "            perd_label_X = classifier.predict(encoderX.predict(dataX_test1))\n",
    "            testXperf.append(100*float(sum(1*(np.argmax(perd_label_X,axis=1)==np.argmax(np.squeeze(labelX_test),axis=1))))/perd_label_X.shape[0])\n",
    "\n",
    "\n",
    "            for kk in range(ntask+1):\n",
    "\n",
    "                \n",
    "\n",
    "                perd_label_Y = classifier.predict(encoderX.predict(dataY_test1[kk]))\n",
    "                testpermutedperf[kk+1].append(100*float(sum(1*(np.argmax(perd_label_Y,axis=1)==np.argmax(np.squeeze(labelY_test[kk]),axis=1))))/perd_label_Y.shape[0])\n",
    "\n",
    "\n",
    "\n",
    "\n",
    "\n",
    "\n",
    "\n",
    "            \n"
   ]
  },
  {
   "cell_type": "code",
   "execution_count": 22,
   "metadata": {},
   "outputs": [],
   "source": [
    "testpermutedperf[0]=testXperf"
   ]
  },
  {
   "cell_type": "code",
   "execution_count": 23,
   "metadata": {},
   "outputs": [
    {
     "data": {
      "text/plain": [
       "Text(0, 0.5, 'Testing Accuracy')"
      ]
     },
     "execution_count": 23,
     "metadata": {},
     "output_type": "execute_result"
    },
    {
     "data": {
      "image/png": "[encoded data removed]",
      "text/plain": [
       "<Figure size 360x360 with 1 Axes>"
      ]
     },
     "metadata": {
      "needs_background": "light"
     },
     "output_type": "display_data"
    }
   ],
   "source": [
    "epochs1 = epochs/epochstep\n",
    "fig, ax=plt.subplots(1,1,figsize=(5,5))\n",
    "for task in range(numtasks+1):\n",
    "    plt.plot(np.arange(epochs1*(task),epochs1*(numtasks+1)),testpermutedperf[task],linewidth=4)\n",
    "plt.grid()\n",
    "plt.tick_params(labelsize=20)\n",
    "\n",
    "ax.set_xlabel('Epochs',fontsize=24)\n",
    "ax.set_ylabel('Testing Accuracy',fontsize=24)\n",
    "\n",
    "#ax.set_title('Training loss for the AE tasks',fontsize=14)\n"
   ]
  },
  {
   "cell_type": "code",
   "execution_count": 24,
   "metadata": {},
   "outputs": [],
   "source": [
    "temp1 = xtrainDataToT = encoderX.predict(dataX_test1)\n",
    "temp2 = xtrainDataToT = encoderX.predict(dataY_test1[0])\n",
    "temp3 = xtrainDataToT = encoderX.predict(dataY_test1[1])\n",
    "temp4 = xtrainDataToT = encoderX.predict(dataY_test1[2])\n",
    "temp5 = xtrainDataToT = encoderX.predict(dataY_test1[3])\n",
    "\n",
    "\n",
    "xtrainDataToT = np.concatenate((temp1,temp2,temp3,temp4,temp5 ), axis=0)\n",
    "xtrainlabelTot = np.argmax( np.concatenate((labelX_test,labelY_test[0],labelY_test[1],labelY_test[2],labelY_test[3] ), axis=0),axis=1)\n"
   ]
  },
  {
   "cell_type": "code",
   "execution_count": 25,
   "metadata": {},
   "outputs": [],
   "source": [
    "umapperT=umap.UMAP()\n",
    "xumapT=umapperT.fit_transform(xtrainDataToT,xtrainlabelTot)\n"
   ]
  },
  {
   "cell_type": "code",
   "execution_count": 26,
   "metadata": {},
   "outputs": [
    {
     "data": {
      "image/png": "[encoded data removed]",
      "text/plain": [
       "<Figure size 432x288 with 1 Axes>"
      ]
     },
     "metadata": {
      "needs_background": "light"
     },
     "output_type": "display_data"
    }
   ],
   "source": [
    "plt.scatter(xumapT[:,0],xumapT[:,1],c=xtrainlabelTot,cmap='tab10',linewidth=4)\n",
    "\n",
    "\n",
    "plt.grid()\n",
    "plt.tick_params(labelsize=20)\n",
    "\n",
    "\n",
    "plt.show()\n",
    "\n",
    "\n"
   ]
  }
 ],
 "metadata": {
  "kernelspec": {
   "display_name": "Python 3",
   "language": "python",
   "name": "python3"
  },
  "language_info": {
   "codemirror_mode": {
    "name": "ipython",
    "version": 3
   },
   "file_extension": ".py",
   "mimetype": "text/x-python",
   "name": "python",
   "nbconvert_exporter": "python",
   "pygments_lexer": "ipython3",
   "version": "3.7.9"
  }
 },
 "nbformat": 4,
 "nbformat_minor": 2
}
